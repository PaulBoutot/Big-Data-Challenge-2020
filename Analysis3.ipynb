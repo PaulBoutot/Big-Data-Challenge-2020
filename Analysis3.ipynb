{
 "cells": [
  {
   "cell_type": "markdown",
   "metadata": {},
   "source": [
    "# Population Density API\n",
    "The Population Density Map with forcasting that Faiza showed us. <br>\n",
    "API Description found here: https://odn.docs.apiary.io/#reference/0/map-creation/get-constraint-permutations-for-entities.\n",
    "\n",
    "\n",
    "The returned data is in the form of a JSON file. Look at the Parse_JSON_Example for ideas on how to parse the data.\n",
    "\n",
    "**API Details:**\n",
    "* Request population density: /data/v1/map/new\n",
    "* Request possible constraints: /data/v1/constraint\n",
    "* There's probably more"
   ]
  },
  {
   "cell_type": "code",
   "execution_count": 1,
   "metadata": {},
   "outputs": [],
   "source": [
    "# Import Modules\n",
    "import requests \n",
    "import json\n",
    "from functools import reduce"
   ]
  },
  {
   "cell_type": "code",
   "execution_count": 2,
   "metadata": {},
   "outputs": [],
   "source": [
    "# Define Constants\n",
    "APP_TOKEN = ''  # Need to create an app_token somehow\n",
    "\n",
    "# API Constants\n",
    "APP_URL = 'https://api.opendatanetwork.com/data/v1/map/new'"
   ]
  },
  {
   "cell_type": "code",
   "execution_count": 3,
   "metadata": {},
   "outputs": [],
   "source": [
    "# Helper Functions - Use whichever you find easier to use\n",
    "\n",
    "# Define the argument url string\n",
    "def create_url1(args):\n",
    "    return '{0}?{1}'.format(APP_URL, args)\n",
    "\n",
    "# Exactly the same as create_url1, but with python tricks\n",
    "def create_url2(**args):\n",
    "    def transform_arg(item):\n",
    "        key, value = item\n",
    "        return '{}={}'.format(key, value)\n",
    "\n",
    "    if args is not None:\n",
    "        list_args = map(transform_arg, args.items())\n",
    "        url_args = reduce(lambda a,b : '{}&{}'.format(a,b), list_args)\n",
    "        return '{0}?{1}'.format(APP_URL, url_args)"
   ]
  },
  {
   "cell_type": "code",
   "execution_count": 4,
   "metadata": {},
   "outputs": [
    {
     "data": {
      "text/plain": [
       "{'session_id': 'kgal21eoi7m',\n",
       " 'bounds': [[40.84466, -73.773434], [40.86033, -73.765258]],\n",
       " 'summary_statistics': {'values': [0,\n",
       "   125.46693594324478,\n",
       "   301.04325337440247,\n",
       "   522.4266144005192,\n",
       "   788.8881798798727,\n",
       "   1112.162410714742,\n",
       "   1592.0463348502665,\n",
       "   2669.975652206564,\n",
       "   88479.58639267196],\n",
       "  'values_formatted': ['0',\n",
       "   '125',\n",
       "   '301',\n",
       "   '522',\n",
       "   '789',\n",
       "   '1,112',\n",
       "   '1,592',\n",
       "   '2,670',\n",
       "   '88,480'],\n",
       "  'names': ['minimum',\n",
       "   '',\n",
       "   'lower quartile',\n",
       "   '',\n",
       "   'median',\n",
       "   '',\n",
       "   'upper quartile',\n",
       "   '',\n",
       "   'maximum']}}"
      ]
     },
     "execution_count": 4,
     "metadata": {},
     "output_type": "execute_result"
    }
   ],
   "source": [
    "# Example 1 - using create_url1(...)\n",
    "\n",
    "# I stole the app_token below from the example they used on the website\n",
    "example_args = 'app_token=cQovpGcdUT1CSzgYk0KPYdAI0&variable=geographic.population.density&entity_id=1600000US3651000&year=2018'\n",
    "\n",
    "# Creates and gets a request\n",
    "url = create_url1(example_args)\n",
    "response = requests.get(url)\n",
    "response.json()"
   ]
  },
  {
   "cell_type": "code",
   "execution_count": 5,
   "metadata": {},
   "outputs": [
    {
     "data": {
      "text/plain": [
       "{'session_id': 'yl52i32nquc',\n",
       " 'bounds': [[40.84466, -73.773434], [40.86033, -73.765258]],\n",
       " 'summary_statistics': {'values': [0,\n",
       "   125.46693594324478,\n",
       "   301.04325337440247,\n",
       "   522.4266144005192,\n",
       "   788.8881798798727,\n",
       "   1112.162410714742,\n",
       "   1592.0463348502665,\n",
       "   2669.975652206564,\n",
       "   88479.58639267196],\n",
       "  'values_formatted': ['0',\n",
       "   '125',\n",
       "   '301',\n",
       "   '522',\n",
       "   '789',\n",
       "   '1,112',\n",
       "   '1,592',\n",
       "   '2,670',\n",
       "   '88,480'],\n",
       "  'names': ['minimum',\n",
       "   '',\n",
       "   'lower quartile',\n",
       "   '',\n",
       "   'median',\n",
       "   '',\n",
       "   'upper quartile',\n",
       "   '',\n",
       "   'maximum']}}"
      ]
     },
     "execution_count": 5,
     "metadata": {},
     "output_type": "execute_result"
    }
   ],
   "source": [
    "# Example 2 - using create_url2(...)\n",
    "\n",
    "url = create_url2(app_token='cQovpGcdUT1CSzgYk0KPYdAI0', variable='geographic.population.density', entity_id='1600000US3651000', year='2018')\n",
    "response = requests.get(url)\n",
    "response.json()"
   ]
  },
  {
   "cell_type": "markdown",
   "metadata": {},
   "source": [
    "## Get Data\n",
    "\n",
    "The idea is to iterate through all the locations we want to look at (the more the better), and store them in some file:\n",
    "* Using the helper functions above, iterate through the argument values and store the obtained information into a 2D array\n",
    "* Need to store it as a 2D array as it makes it simple to turn into a .csv file or a Pandas Dataframe"
   ]
  },
  {
   "cell_type": "code",
   "execution_count": null,
   "metadata": {},
   "outputs": [],
   "source": []
  },
  {
   "cell_type": "code",
   "execution_count": null,
   "metadata": {},
   "outputs": [],
   "source": []
  },
  {
   "cell_type": "code",
   "execution_count": null,
   "metadata": {},
   "outputs": [],
   "source": []
  }
 ],
 "metadata": {
  "kernelspec": {
   "display_name": "Python 3",
   "language": "python",
   "name": "python3"
  },
  "language_info": {
   "codemirror_mode": {
    "name": "ipython",
    "version": 3
   },
   "file_extension": ".py",
   "mimetype": "text/x-python",
   "name": "python",
   "nbconvert_exporter": "python",
   "pygments_lexer": "ipython3",
   "version": "3.7.3"
  }
 },
 "nbformat": 4,
 "nbformat_minor": 4
}
