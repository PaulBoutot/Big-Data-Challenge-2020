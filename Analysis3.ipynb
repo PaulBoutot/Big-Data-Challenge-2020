{
 "cells": [
  {
   "cell_type": "markdown",
   "metadata": {},
   "source": [
    "# Population Density API\n",
    "The Population Density Map with forcasting that Faiza showed us. <br>\n",
    "API Description found here: https://odn.docs.apiary.io/#reference/0/map-creation/get-constraint-permutations-for-entities.\n",
    "\n",
    "\n",
    "The returned data is in the form of a JSON file. Look at the Parse_JSON_Example for ideas on how to parse the data."
   ]
  },
  {
   "cell_type": "code",
   "execution_count": 1,
   "metadata": {},
   "outputs": [],
   "source": [
    "# Import Modules\n",
    "import requests \n",
    "import json\n",
    "from functools import reduce"
   ]
  },
  {
   "cell_type": "code",
   "execution_count": 2,
   "metadata": {},
   "outputs": [],
   "source": [
    "# Define Constants\n",
    "app_token = ''  # Need to create an app_token somehow"
   ]
  },
  {
   "cell_type": "code",
   "execution_count": 3,
   "metadata": {},
   "outputs": [],
   "source": [
    "# Helper Functions - Use whichever you find easier to use\n",
    "\n",
    "# Define the argument url string\n",
    "def create_url1(args):\n",
    "    return 'https://api.opendatanetwork.com/data/v1/constraint/geographic.population.density?{}'.format(args)\n",
    "\n",
    "# Exactly the same as create_url1, but with python tricks\n",
    "def create_url2(**args):\n",
    "    def transform_arg(item):\n",
    "        key, value = item\n",
    "        return '{}={}'.format(key, value)\n",
    "\n",
    "    if args is not None:\n",
    "        list_args = map(transform_arg, args.items())\n",
    "        url_args = reduce(lambda a,b : '{}&{}'.format(a,b), list_args)\n",
    "        return 'https://api.opendatanetwork.com/data/v1/constraint/geographic.population.density?{}'.format(url_args)"
   ]
  },
  {
   "cell_type": "code",
   "execution_count": 4,
   "metadata": {},
   "outputs": [
    {
     "data": {
      "text/plain": [
       "{'permutations': [{'constraint_value': '2018'},\n",
       "  {'constraint_value': '2017'},\n",
       "  {'constraint_value': '2016'},\n",
       "  {'constraint_value': '2015'},\n",
       "  {'constraint_value': '2014'},\n",
       "  {'constraint_value': '2013'},\n",
       "  {'constraint_value': '2012'},\n",
       "  {'constraint_value': '2011'},\n",
       "  {'constraint_value': '2010'},\n",
       "  {'constraint_value': '2009'}]}"
      ]
     },
     "execution_count": 4,
     "metadata": {},
     "output_type": "execute_result"
    }
   ],
   "source": [
    "# Example 1 - using create_url1(...)\n",
    "\n",
    "# I stole the app_token below from the example they used on the website\n",
    "example_args = 'app_token=cQovpGcdUT1CSzgYk0KPYdAI0&constraint=year&entity_id=1600000US3651000'\n",
    "\n",
    "# Creates and gets a request\n",
    "url = create_url1(example_args)\n",
    "response = requests.get(url)\n",
    "response.json()"
   ]
  },
  {
   "cell_type": "code",
   "execution_count": 5,
   "metadata": {},
   "outputs": [
    {
     "data": {
      "text/plain": [
       "{'permutations': [{'constraint_value': '2018'},\n",
       "  {'constraint_value': '2017'},\n",
       "  {'constraint_value': '2016'},\n",
       "  {'constraint_value': '2015'},\n",
       "  {'constraint_value': '2014'},\n",
       "  {'constraint_value': '2013'},\n",
       "  {'constraint_value': '2012'},\n",
       "  {'constraint_value': '2011'},\n",
       "  {'constraint_value': '2010'},\n",
       "  {'constraint_value': '2009'}]}"
      ]
     },
     "execution_count": 5,
     "metadata": {},
     "output_type": "execute_result"
    }
   ],
   "source": [
    "# Example 2 - using create_url2(...)\n",
    "\n",
    "url = create_url2(app_token='cQovpGcdUT1CSzgYk0KPYdAI0', constraint='year', entity_id='1600000US3651000')\n",
    "response = requests.get(url)\n",
    "response.json()"
   ]
  },
  {
   "cell_type": "markdown",
   "metadata": {},
   "source": [
    "## Get Data\n",
    "\n",
    "The idea is to iterate through all the locations we want to look at (the more the better), and store them in some file:\n",
    "* Using the helper functions above, iterate through the argument values and store the obtained information into a 2D array\n",
    "* Need to store it as a 2D array as it makes it simple to turn into a .csv file or a Pandas Dataframe"
   ]
  },
  {
   "cell_type": "code",
   "execution_count": null,
   "metadata": {},
   "outputs": [],
   "source": []
  },
  {
   "cell_type": "code",
   "execution_count": null,
   "metadata": {},
   "outputs": [],
   "source": []
  }
 ],
 "metadata": {
  "kernelspec": {
   "display_name": "Python 3",
   "language": "python",
   "name": "python3"
  },
  "language_info": {
   "codemirror_mode": {
    "name": "ipython",
    "version": 3
   },
   "file_extension": ".py",
   "mimetype": "text/x-python",
   "name": "python",
   "nbconvert_exporter": "python",
   "pygments_lexer": "ipython3",
   "version": "3.7.3"
  }
 },
 "nbformat": 4,
 "nbformat_minor": 4
}
