{
 "cells": [
  {
   "cell_type": "markdown",
   "metadata": {},
   "source": [
    "# Helper Functions"
   ]
  },
  {
   "cell_type": "code",
   "execution_count": 4,
   "metadata": {},
   "outputs": [],
   "source": [
    "# Loads a dataset from the Datasets directory\n",
    "def relative_path(path):\n",
    "    return 'Datasets/{}'.format(path)"
   ]
  },
  {
   "cell_type": "markdown",
   "metadata": {},
   "source": [
    "# Bed Analysis\n",
    "I'm analyzing the ICU Bed By County Dataset for the sake of getting some information. <br> \n",
    "Datasets are found here: https://www.kaggle.com/jaimeblasco/icu-beds-by-county-in-the-us"
   ]
  },
  {
   "cell_type": "markdown",
   "metadata": {},
   "source": [
    "## Import Modules"
   ]
  },
  {
   "cell_type": "code",
   "execution_count": 1,
   "metadata": {},
   "outputs": [],
   "source": [
    "import numpy as np\n",
    "import pandas as pd"
   ]
  },
  {
   "cell_type": "markdown",
   "metadata": {},
   "source": [
    "## Load Dataset"
   ]
  },
  {
   "cell_type": "code",
   "execution_count": 5,
   "metadata": {},
   "outputs": [],
   "source": [
    "dataset_path = 'icu-beds-by-county-in-the-us/data-FPBfZ.csv'\n",
    "actual_path = relative_path(dataset_path)"
   ]
  },
  {
   "cell_type": "code",
   "execution_count": 8,
   "metadata": {},
   "outputs": [],
   "source": [
    "data = pd.read_csv(actual_path)"
   ]
  },
  {
   "cell_type": "code",
   "execution_count": 11,
   "metadata": {},
   "outputs": [
    {
     "data": {
      "text/html": [
       "<div>\n",
       "<style scoped>\n",
       "    .dataframe tbody tr th:only-of-type {\n",
       "        vertical-align: middle;\n",
       "    }\n",
       "\n",
       "    .dataframe tbody tr th {\n",
       "        vertical-align: top;\n",
       "    }\n",
       "\n",
       "    .dataframe thead th {\n",
       "        text-align: right;\n",
       "    }\n",
       "</style>\n",
       "<table border=\"1\" class=\"dataframe\">\n",
       "  <thead>\n",
       "    <tr style=\"text-align: right;\">\n",
       "      <th></th>\n",
       "      <th>State</th>\n",
       "      <th>County</th>\n",
       "      <th>ICU Beds</th>\n",
       "      <th>Total Population</th>\n",
       "      <th>Population Aged 60+</th>\n",
       "      <th>Percent of Population Aged 60+</th>\n",
       "      <th>Residents Aged 60+ Per Each ICU Bed</th>\n",
       "    </tr>\n",
       "  </thead>\n",
       "  <tbody>\n",
       "    <tr>\n",
       "      <th>0</th>\n",
       "      <td>Alabama</td>\n",
       "      <td>Autauga</td>\n",
       "      <td>6</td>\n",
       "      <td>55036</td>\n",
       "      <td>10523</td>\n",
       "      <td>19.1</td>\n",
       "      <td>1754.0</td>\n",
       "    </tr>\n",
       "    <tr>\n",
       "      <th>1</th>\n",
       "      <td>Alabama</td>\n",
       "      <td>Baldwin</td>\n",
       "      <td>51</td>\n",
       "      <td>203360</td>\n",
       "      <td>53519</td>\n",
       "      <td>26.3</td>\n",
       "      <td>1049.0</td>\n",
       "    </tr>\n",
       "    <tr>\n",
       "      <th>2</th>\n",
       "      <td>Alabama</td>\n",
       "      <td>Barbour</td>\n",
       "      <td>5</td>\n",
       "      <td>26201</td>\n",
       "      <td>6150</td>\n",
       "      <td>23.5</td>\n",
       "      <td>1230.0</td>\n",
       "    </tr>\n",
       "    <tr>\n",
       "      <th>3</th>\n",
       "      <td>Alabama</td>\n",
       "      <td>Bibb</td>\n",
       "      <td>0</td>\n",
       "      <td>22580</td>\n",
       "      <td>4773</td>\n",
       "      <td>21.1</td>\n",
       "      <td>NaN</td>\n",
       "    </tr>\n",
       "    <tr>\n",
       "      <th>4</th>\n",
       "      <td>Alabama</td>\n",
       "      <td>Blount</td>\n",
       "      <td>6</td>\n",
       "      <td>57667</td>\n",
       "      <td>13600</td>\n",
       "      <td>23.6</td>\n",
       "      <td>2267.0</td>\n",
       "    </tr>\n",
       "  </tbody>\n",
       "</table>\n",
       "</div>"
      ],
      "text/plain": [
       "     State   County  ICU Beds  Total Population  Population Aged 60+  \\\n",
       "0  Alabama  Autauga         6             55036                10523   \n",
       "1  Alabama  Baldwin        51            203360                53519   \n",
       "2  Alabama  Barbour         5             26201                 6150   \n",
       "3  Alabama     Bibb         0             22580                 4773   \n",
       "4  Alabama   Blount         6             57667                13600   \n",
       "\n",
       "   Percent of Population Aged 60+  Residents Aged 60+ Per Each ICU Bed  \n",
       "0                            19.1                               1754.0  \n",
       "1                            26.3                               1049.0  \n",
       "2                            23.5                               1230.0  \n",
       "3                            21.1                                  NaN  \n",
       "4                            23.6                               2267.0  "
      ]
     },
     "execution_count": 11,
     "metadata": {},
     "output_type": "execute_result"
    }
   ],
   "source": [
    "data.head()"
   ]
  },
  {
   "cell_type": "code",
   "execution_count": null,
   "metadata": {},
   "outputs": [],
   "source": []
  }
 ],
 "metadata": {
  "kernelspec": {
   "display_name": "Python 3",
   "language": "python",
   "name": "python3"
  },
  "language_info": {
   "codemirror_mode": {
    "name": "ipython",
    "version": 3
   },
   "file_extension": ".py",
   "mimetype": "text/x-python",
   "name": "python",
   "nbconvert_exporter": "python",
   "pygments_lexer": "ipython3",
   "version": "3.7.3"
  }
 },
 "nbformat": 4,
 "nbformat_minor": 4
}
