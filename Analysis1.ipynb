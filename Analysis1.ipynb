{
 "cells": [
  {
   "cell_type": "markdown",
   "metadata": {},
   "source": [
    "# Helper Functions"
   ]
  },
  {
   "cell_type": "code",
   "execution_count": 1,
   "metadata": {},
   "outputs": [],
   "source": [
    "# Loads a dataset from the Datasets directory\n",
    "def relative_path(path):\n",
    "    return 'Datasets/{}'.format(path)"
   ]
  },
  {
   "cell_type": "code",
   "execution_count": 2,
   "metadata": {},
   "outputs": [],
   "source": [
    "def print_enumeration(collection):\n",
    "    for num, value in enumerate(collection, start=1):\n",
    "        print('{0}. {1}'.format(num, value))"
   ]
  },
  {
   "cell_type": "markdown",
   "metadata": {},
   "source": [
    "# Bed Analysis\n",
    "I'm analyzing the ICU Bed By County Dataset for the sake of getting some information. <br> \n",
    "Datasets are found here: https://www.kaggle.com/jaimeblasco/icu-beds-by-county-in-the-us"
   ]
  },
  {
   "cell_type": "markdown",
   "metadata": {},
   "source": [
    "## Import Modules"
   ]
  },
  {
   "cell_type": "code",
   "execution_count": 3,
   "metadata": {},
   "outputs": [],
   "source": [
    "import numpy as np\n",
    "import pandas as pd"
   ]
  },
  {
   "cell_type": "markdown",
   "metadata": {},
   "source": [
    "## Load Dataset"
   ]
  },
  {
   "cell_type": "code",
   "execution_count": 4,
   "metadata": {},
   "outputs": [],
   "source": [
    "dataset_path = 'icu-beds-by-county-in-the-us/data-FPBfZ.csv'\n",
    "actual_path = relative_path(dataset_path)"
   ]
  },
  {
   "cell_type": "code",
   "execution_count": 5,
   "metadata": {},
   "outputs": [],
   "source": [
    "data = pd.read_csv(actual_path)"
   ]
  },
  {
   "cell_type": "code",
   "execution_count": 6,
   "metadata": {},
   "outputs": [
    {
     "data": {
      "text/html": [
       "<div>\n",
       "<style scoped>\n",
       "    .dataframe tbody tr th:only-of-type {\n",
       "        vertical-align: middle;\n",
       "    }\n",
       "\n",
       "    .dataframe tbody tr th {\n",
       "        vertical-align: top;\n",
       "    }\n",
       "\n",
       "    .dataframe thead th {\n",
       "        text-align: right;\n",
       "    }\n",
       "</style>\n",
       "<table border=\"1\" class=\"dataframe\">\n",
       "  <thead>\n",
       "    <tr style=\"text-align: right;\">\n",
       "      <th></th>\n",
       "      <th>State</th>\n",
       "      <th>County</th>\n",
       "      <th>ICU Beds</th>\n",
       "      <th>Total Population</th>\n",
       "      <th>Population Aged 60+</th>\n",
       "      <th>Percent of Population Aged 60+</th>\n",
       "      <th>Residents Aged 60+ Per Each ICU Bed</th>\n",
       "    </tr>\n",
       "  </thead>\n",
       "  <tbody>\n",
       "    <tr>\n",
       "      <th>0</th>\n",
       "      <td>Alabama</td>\n",
       "      <td>Autauga</td>\n",
       "      <td>6</td>\n",
       "      <td>55036</td>\n",
       "      <td>10523</td>\n",
       "      <td>19.1</td>\n",
       "      <td>1754.0</td>\n",
       "    </tr>\n",
       "    <tr>\n",
       "      <th>1</th>\n",
       "      <td>Alabama</td>\n",
       "      <td>Baldwin</td>\n",
       "      <td>51</td>\n",
       "      <td>203360</td>\n",
       "      <td>53519</td>\n",
       "      <td>26.3</td>\n",
       "      <td>1049.0</td>\n",
       "    </tr>\n",
       "    <tr>\n",
       "      <th>2</th>\n",
       "      <td>Alabama</td>\n",
       "      <td>Barbour</td>\n",
       "      <td>5</td>\n",
       "      <td>26201</td>\n",
       "      <td>6150</td>\n",
       "      <td>23.5</td>\n",
       "      <td>1230.0</td>\n",
       "    </tr>\n",
       "    <tr>\n",
       "      <th>3</th>\n",
       "      <td>Alabama</td>\n",
       "      <td>Bibb</td>\n",
       "      <td>0</td>\n",
       "      <td>22580</td>\n",
       "      <td>4773</td>\n",
       "      <td>21.1</td>\n",
       "      <td>NaN</td>\n",
       "    </tr>\n",
       "    <tr>\n",
       "      <th>4</th>\n",
       "      <td>Alabama</td>\n",
       "      <td>Blount</td>\n",
       "      <td>6</td>\n",
       "      <td>57667</td>\n",
       "      <td>13600</td>\n",
       "      <td>23.6</td>\n",
       "      <td>2267.0</td>\n",
       "    </tr>\n",
       "  </tbody>\n",
       "</table>\n",
       "</div>"
      ],
      "text/plain": [
       "     State   County  ICU Beds  Total Population  Population Aged 60+  \\\n",
       "0  Alabama  Autauga         6             55036                10523   \n",
       "1  Alabama  Baldwin        51            203360                53519   \n",
       "2  Alabama  Barbour         5             26201                 6150   \n",
       "3  Alabama     Bibb         0             22580                 4773   \n",
       "4  Alabama   Blount         6             57667                13600   \n",
       "\n",
       "   Percent of Population Aged 60+  Residents Aged 60+ Per Each ICU Bed  \n",
       "0                            19.1                               1754.0  \n",
       "1                            26.3                               1049.0  \n",
       "2                            23.5                               1230.0  \n",
       "3                            21.1                                  NaN  \n",
       "4                            23.6                               2267.0  "
      ]
     },
     "execution_count": 6,
     "metadata": {},
     "output_type": "execute_result"
    }
   ],
   "source": [
    "data.head()"
   ]
  },
  {
   "cell_type": "code",
   "execution_count": 7,
   "metadata": {},
   "outputs": [],
   "source": [
    "states = data.State.unique()"
   ]
  },
  {
   "cell_type": "code",
   "execution_count": 8,
   "metadata": {},
   "outputs": [
    {
     "name": "stdout",
     "output_type": "stream",
     "text": [
      "1. Alabama\n",
      "2. Alaska\n",
      "3. Arizona\n",
      "4. Arkansas\n",
      "5. California\n",
      "6. Colorado\n",
      "7. Connecticut\n",
      "8. Delaware\n",
      "9. District of Columbia\n",
      "10. Florida\n",
      "11. Georgia\n",
      "12. Hawaii\n",
      "13. Idaho\n",
      "14. Illinois\n",
      "15. Indiana\n",
      "16. Iowa\n",
      "17. Kansas\n",
      "18. Kentucky\n",
      "19. Louisiana\n",
      "20. Maine\n",
      "21. Maryland\n",
      "22. Massachusetts\n",
      "23. Michigan\n",
      "24. Minnesota\n",
      "25. Mississippi\n",
      "26. Missouri\n",
      "27. Montana\n",
      "28. Nebraska\n",
      "29. Nevada\n",
      "30. New Hampshire\n",
      "31. New Jersey\n",
      "32. New Mexico\n",
      "33. New York\n",
      "34. North Carolina\n",
      "35. North Dakota\n",
      "36. Ohio\n",
      "37. Oklahoma\n",
      "38. Oregon\n",
      "39. Pennsylvania\n",
      "40. Rhode Island\n",
      "41. South Carolina\n",
      "42. South Dakota\n",
      "43. Tennessee\n",
      "44. Texas\n",
      "45. Utah\n",
      "46. Vermont\n",
      "47. Virginia\n",
      "48. Washington\n",
      "49. West Virginia\n",
      "50. Wisconsin\n",
      "51. Wyoming\n"
     ]
    }
   ],
   "source": [
    "print_enumeration(states)"
   ]
  },
  {
   "cell_type": "markdown",
   "metadata": {},
   "source": [
    "## Filter Dataset"
   ]
  },
  {
   "cell_type": "code",
   "execution_count": 16,
   "metadata": {},
   "outputs": [
    {
     "data": {
      "text/html": [
       "<div>\n",
       "<style scoped>\n",
       "    .dataframe tbody tr th:only-of-type {\n",
       "        vertical-align: middle;\n",
       "    }\n",
       "\n",
       "    .dataframe tbody tr th {\n",
       "        vertical-align: top;\n",
       "    }\n",
       "\n",
       "    .dataframe thead th {\n",
       "        text-align: right;\n",
       "    }\n",
       "</style>\n",
       "<table border=\"1\" class=\"dataframe\">\n",
       "  <thead>\n",
       "    <tr style=\"text-align: right;\">\n",
       "      <th></th>\n",
       "      <th>State</th>\n",
       "      <th>County</th>\n",
       "      <th>ICU Beds</th>\n",
       "      <th>Total Population</th>\n",
       "      <th>Population Aged 60+</th>\n",
       "      <th>Percent of Population Aged 60+</th>\n",
       "      <th>Residents Aged 60+ Per Each ICU Bed</th>\n",
       "    </tr>\n",
       "  </thead>\n",
       "  <tbody>\n",
       "    <tr>\n",
       "      <th>67</th>\n",
       "      <td>Alaska</td>\n",
       "      <td>Aleutians East</td>\n",
       "      <td>0</td>\n",
       "      <td>3338</td>\n",
       "      <td>510</td>\n",
       "      <td>15.3</td>\n",
       "      <td>NaN</td>\n",
       "    </tr>\n",
       "    <tr>\n",
       "      <th>68</th>\n",
       "      <td>Alaska</td>\n",
       "      <td>Aleutians West</td>\n",
       "      <td>0</td>\n",
       "      <td>5784</td>\n",
       "      <td>707</td>\n",
       "      <td>12.2</td>\n",
       "      <td>NaN</td>\n",
       "    </tr>\n",
       "    <tr>\n",
       "      <th>69</th>\n",
       "      <td>Alaska</td>\n",
       "      <td>Anchorage</td>\n",
       "      <td>73</td>\n",
       "      <td>298225</td>\n",
       "      <td>43608</td>\n",
       "      <td>14.6</td>\n",
       "      <td>597.0</td>\n",
       "    </tr>\n",
       "    <tr>\n",
       "      <th>70</th>\n",
       "      <td>Alaska</td>\n",
       "      <td>Bethel</td>\n",
       "      <td>0</td>\n",
       "      <td>17957</td>\n",
       "      <td>2082</td>\n",
       "      <td>11.6</td>\n",
       "      <td>NaN</td>\n",
       "    </tr>\n",
       "    <tr>\n",
       "      <th>71</th>\n",
       "      <td>Alaska</td>\n",
       "      <td>Bristol Bay</td>\n",
       "      <td>0</td>\n",
       "      <td>917</td>\n",
       "      <td>164</td>\n",
       "      <td>17.9</td>\n",
       "      <td>NaN</td>\n",
       "    </tr>\n",
       "  </tbody>\n",
       "</table>\n",
       "</div>"
      ],
      "text/plain": [
       "     State          County  ICU Beds  Total Population  Population Aged 60+  \\\n",
       "67  Alaska  Aleutians East         0              3338                  510   \n",
       "68  Alaska  Aleutians West         0              5784                  707   \n",
       "69  Alaska       Anchorage        73            298225                43608   \n",
       "70  Alaska          Bethel         0             17957                 2082   \n",
       "71  Alaska     Bristol Bay         0               917                  164   \n",
       "\n",
       "    Percent of Population Aged 60+  Residents Aged 60+ Per Each ICU Bed  \n",
       "67                            15.3                                  NaN  \n",
       "68                            12.2                                  NaN  \n",
       "69                            14.6                                597.0  \n",
       "70                            11.6                                  NaN  \n",
       "71                            17.9                                  NaN  "
      ]
     },
     "execution_count": 16,
     "metadata": {},
     "output_type": "execute_result"
    }
   ],
   "source": [
    "# Example of filtering data\n",
    "filter_function = data['State']=='Alaska'\n",
    "data[filter_function].head()"
   ]
  },
  {
   "cell_type": "code",
   "execution_count": 57,
   "metadata": {},
   "outputs": [
    {
     "name": "stdout",
     "output_type": "stream",
     "text": [
      "Counties: 67   (Alabama)\n",
      "Counties: 29   (Alaska)\n",
      "Counties: 15   (Arizona)\n",
      "Counties: 75   (Arkansas)\n",
      "Counties: 58   (California)\n",
      "Counties: 64   (Colorado)\n",
      "Counties: 8    (Connecticut)\n",
      "Counties: 3    (Delaware)\n",
      "Counties: 1    (District of Columbia)\n",
      "Counties: 67   (Florida)\n",
      "Counties: 159  (Georgia)\n",
      "Counties: 5    (Hawaii)\n",
      "Counties: 44   (Idaho)\n",
      "Counties: 102  (Illinois)\n",
      "Counties: 92   (Indiana)\n",
      "Counties: 99   (Iowa)\n",
      "Counties: 105  (Kansas)\n",
      "Counties: 120  (Kentucky)\n",
      "Counties: 64   (Louisiana)\n",
      "Counties: 16   (Maine)\n",
      "Counties: 24   (Maryland)\n",
      "Counties: 14   (Massachusetts)\n",
      "Counties: 83   (Michigan)\n",
      "Counties: 87   (Minnesota)\n",
      "Counties: 82   (Mississippi)\n",
      "Counties: 115  (Missouri)\n",
      "Counties: 56   (Montana)\n",
      "Counties: 93   (Nebraska)\n",
      "Counties: 17   (Nevada)\n",
      "Counties: 10   (New Hampshire)\n",
      "Counties: 21   (New Jersey)\n",
      "Counties: 33   (New Mexico)\n",
      "Counties: 62   (New York)\n",
      "Counties: 100  (North Carolina)\n",
      "Counties: 53   (North Dakota)\n",
      "Counties: 88   (Ohio)\n",
      "Counties: 77   (Oklahoma)\n",
      "Counties: 36   (Oregon)\n",
      "Counties: 67   (Pennsylvania)\n",
      "Counties: 5    (Rhode Island)\n",
      "Counties: 46   (South Carolina)\n",
      "Counties: 66   (South Dakota)\n",
      "Counties: 95   (Tennessee)\n",
      "Counties: 254  (Texas)\n",
      "Counties: 29   (Utah)\n",
      "Counties: 14   (Vermont)\n",
      "Counties: 133  (Virginia)\n",
      "Counties: 39   (Washington)\n",
      "Counties: 55   (West Virginia)\n",
      "Counties: 72   (Wisconsin)\n",
      "Counties: 23   (Wyoming)\n"
     ]
    }
   ],
   "source": [
    "# Prints the number of Counties per State\n",
    "for num, state in enumerate(states, start=1):\n",
    "    state_data = data[data['State']==state]\n",
    "    \n",
    "    print('{1} ({0})'.format(state, 'Counties: {}'.format(len(state_data.County.unique())).ljust(14)))"
   ]
  },
  {
   "cell_type": "code",
   "execution_count": null,
   "metadata": {},
   "outputs": [],
   "source": []
  },
  {
   "cell_type": "code",
   "execution_count": null,
   "metadata": {},
   "outputs": [],
   "source": []
  },
  {
   "cell_type": "code",
   "execution_count": null,
   "metadata": {},
   "outputs": [],
   "source": []
  }
 ],
 "metadata": {
  "kernelspec": {
   "display_name": "Python 3",
   "language": "python",
   "name": "python3"
  },
  "language_info": {
   "codemirror_mode": {
    "name": "ipython",
    "version": 3
   },
   "file_extension": ".py",
   "mimetype": "text/x-python",
   "name": "python",
   "nbconvert_exporter": "python",
   "pygments_lexer": "ipython3",
   "version": "3.7.3"
  }
 },
 "nbformat": 4,
 "nbformat_minor": 4
}
