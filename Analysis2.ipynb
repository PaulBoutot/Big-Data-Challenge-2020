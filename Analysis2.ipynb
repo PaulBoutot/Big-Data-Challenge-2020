{
 "cells": [
  {
   "cell_type": "markdown",
   "metadata": {},
   "source": [
    "# Price of Hospital Care\n",
    "\n",
    "Data for California hospitals: https://oshpd.ca.gov/data-and-reports/cost-transparency/hospital-chargemasters/latest-chargemasters/?fbclid=IwAR2DJ4Hc6Y5LOu124otU13xMqREBmVXJItd2sXWH3-w3yYaRCo2GrGG9KDg\n",
    "\n",
    "Maybe price of hospital care may impact the number of patients / resources in the hospital?\n",
    "\n",
    "In each of the Chargemaster Documents, the following is given:\n",
    "* Charge Code\n",
    "* Charge Code Description\n",
    "* HCPCS Code\n",
    "* Price\n",
    "\n",
    "For example, the charge code 1131 might represent the cost of a Room for Medicine and/or Surgery.\n",
    "\n",
    "The Charge Codes seem to be related:\n",
    "* Charge Codes with the values between 0 and 100,000 represent a Type of Room\n",
    "* Charge Codes with the values between 100,000 and 200,000 represent a Type of Observation\n",
    "* I have no idea what the other ranges represent (I wasn't able to find this information anywhere)\n",
    "\n",
    "The linked website gives the Chargemaster documents for 681 different hospitals in California. Each document is around 400KB. Downloading all the documents would be around 270MB(reasonable size? (not including other states/countries)).\n",
    "\n",
    "### Why this would be useful\n",
    "\n",
    "We can link this data to the data we (potentially) find about hospital resources (i.e. rooms, equipment, etc.)\n",
    "\n",
    "### Challenges\n",
    "\n",
    "1. Need to download all of the documents from the website (Probably needs some kind of script to do automatically).\n",
    "2. Need to load data from all files (easy normally, but the .csv files uses tabs)\n",
    "3. Might need to take the averages of the prices for all hospitals within some area (depending on how much data we get from the other datasets)\n"
   ]
  },
  {
   "cell_type": "code",
   "execution_count": null,
   "metadata": {},
   "outputs": [],
   "source": []
  }
 ],
 "metadata": {
  "kernelspec": {
   "display_name": "Python 3",
   "language": "python",
   "name": "python3"
  },
  "language_info": {
   "codemirror_mode": {
    "name": "ipython",
    "version": 3
   },
   "file_extension": ".py",
   "mimetype": "text/x-python",
   "name": "python",
   "nbconvert_exporter": "python",
   "pygments_lexer": "ipython3",
   "version": "3.7.3"
  }
 },
 "nbformat": 4,
 "nbformat_minor": 4
}
